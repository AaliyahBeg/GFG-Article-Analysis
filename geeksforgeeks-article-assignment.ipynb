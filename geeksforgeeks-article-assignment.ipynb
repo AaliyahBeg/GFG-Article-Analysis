{
 "cells": [
  {
   "cell_type": "code",
   "execution_count": 1,
   "id": "2a03e46d",
   "metadata": {
    "_cell_guid": "b1076dfc-b9ad-4769-8c92-a6c4dae69d19",
    "_uuid": "8f2839f25d086af736a60e9eeb907d3b93b6e0e5",
    "execution": {
     "iopub.execute_input": "2022-04-23T19:46:40.200518Z",
     "iopub.status.busy": "2022-04-23T19:46:40.199945Z",
     "iopub.status.idle": "2022-04-23T19:46:40.377300Z",
     "shell.execute_reply": "2022-04-23T19:46:40.376562Z",
     "shell.execute_reply.started": "2022-04-03T07:12:09.206548Z"
    },
    "papermill": {
     "duration": 0.200252,
     "end_time": "2022-04-23T19:46:40.377455",
     "exception": false,
     "start_time": "2022-04-23T19:46:40.177203",
     "status": "completed"
    },
    "tags": []
   },
   "outputs": [],
   "source": [
    "import os\n",
    "import numpy as np\n",
    "import pandas as pd\n",
    "\n",
    "\n",
    "df = pd.read_csv('/kaggle/input/geeksforgeeks-articles/articles.csv')\n",
    "df.dropna(inplace = True)"
   ]
  },
  {
   "cell_type": "markdown",
   "id": "8572e31e",
   "metadata": {
    "papermill": {
     "duration": 0.013611,
     "end_time": "2022-04-23T19:46:40.405926",
     "exception": false,
     "start_time": "2022-04-23T19:46:40.392315",
     "status": "completed"
    },
    "tags": []
   },
   "source": [
    "## 1) How many authors do we have in the dataset?"
   ]
  },
  {
   "cell_type": "code",
   "execution_count": 2,
   "id": "cee3e4eb",
   "metadata": {
    "execution": {
     "iopub.execute_input": "2022-04-23T19:46:40.437723Z",
     "iopub.status.busy": "2022-04-23T19:46:40.437116Z",
     "iopub.status.idle": "2022-04-23T19:46:40.455646Z",
     "shell.execute_reply": "2022-04-23T19:46:40.456105Z",
     "shell.execute_reply.started": "2022-04-03T07:12:46.943817Z"
    },
    "papermill": {
     "duration": 0.036106,
     "end_time": "2022-04-23T19:46:40.456265",
     "exception": false,
     "start_time": "2022-04-23T19:46:40.420159",
     "status": "completed"
    },
    "tags": []
   },
   "outputs": [
    {
     "data": {
      "text/plain": [
       "5589"
      ]
     },
     "execution_count": 2,
     "metadata": {},
     "output_type": "execute_result"
    }
   ],
   "source": [
    "#M1 # convert the data frame into 2-d array\n",
    "# data=df.values\n",
    "# # unique values\n",
    "# author=set()\n",
    "# for i in range(len(data)):\n",
    "#     author.add(data[i][1])\n",
    "# len(author)\n",
    "#M2 df['author_id'].nunique()\n",
    "#M3 df['author_id'].describe()\n",
    "len(df['author_id'].unique())"
   ]
  },
  {
   "cell_type": "markdown",
   "id": "ef7b32ab",
   "metadata": {
    "papermill": {
     "duration": 0.014016,
     "end_time": "2022-04-23T19:46:40.485042",
     "exception": false,
     "start_time": "2022-04-23T19:46:40.471026",
     "status": "completed"
    },
    "tags": []
   },
   "source": [
    "## 2) How many easy articles are publised on GeeksforGeeks?"
   ]
  },
  {
   "cell_type": "code",
   "execution_count": 3,
   "id": "cc12d62a",
   "metadata": {
    "execution": {
     "iopub.execute_input": "2022-04-23T19:46:40.522321Z",
     "iopub.status.busy": "2022-04-23T19:46:40.521709Z",
     "iopub.status.idle": "2022-04-23T19:46:40.526967Z",
     "shell.execute_reply": "2022-04-23T19:46:40.526467Z",
     "shell.execute_reply.started": "2022-04-03T07:12:53.553442Z"
    },
    "papermill": {
     "duration": 0.027798,
     "end_time": "2022-04-23T19:46:40.527102",
     "exception": false,
     "start_time": "2022-04-23T19:46:40.499304",
     "status": "completed"
    },
    "tags": []
   },
   "outputs": [
    {
     "data": {
      "text/plain": [
       "9654"
      ]
     },
     "execution_count": 3,
     "metadata": {},
     "output_type": "execute_result"
    }
   ],
   "source": [
    "len(df[df['category']=='easy'])"
   ]
  },
  {
   "cell_type": "markdown",
   "id": "8c515547",
   "metadata": {
    "papermill": {
     "duration": 0.014144,
     "end_time": "2022-04-23T19:46:40.555892",
     "exception": false,
     "start_time": "2022-04-23T19:46:40.541748",
     "status": "completed"
    },
    "tags": []
   },
   "source": [
    "## 3) Which category is having most number of articles?"
   ]
  },
  {
   "cell_type": "code",
   "execution_count": 4,
   "id": "b8b47427",
   "metadata": {
    "execution": {
     "iopub.execute_input": "2022-04-23T19:46:40.590391Z",
     "iopub.status.busy": "2022-04-23T19:46:40.589640Z",
     "iopub.status.idle": "2022-04-23T19:46:40.600878Z",
     "shell.execute_reply": "2022-04-23T19:46:40.601341Z",
     "shell.execute_reply.started": "2022-04-03T07:12:56.556807Z"
    },
    "papermill": {
     "duration": 0.031197,
     "end_time": "2022-04-23T19:46:40.601587",
     "exception": false,
     "start_time": "2022-04-23T19:46:40.570390",
     "status": "completed"
    },
    "tags": []
   },
   "outputs": [
    {
     "data": {
      "text/plain": [
       "'medium'"
      ]
     },
     "execution_count": 4,
     "metadata": {},
     "output_type": "execute_result"
    }
   ],
   "source": [
    "# v=df.max(df.groupby('category').size())\n",
    "# len(df[df['category']==v])\n",
    "#M1 df.groupby('category').size()\n",
    "df['category'].describe()[2]\n"
   ]
  },
  {
   "cell_type": "markdown",
   "id": "ae222b51",
   "metadata": {
    "papermill": {
     "duration": 0.016032,
     "end_time": "2022-04-23T19:46:40.634126",
     "exception": false,
     "start_time": "2022-04-23T19:46:40.618094",
     "status": "completed"
    },
    "tags": []
   },
   "source": [
    "## 4) What percent of articles are in expert category out of total number of articles?"
   ]
  },
  {
   "cell_type": "code",
   "execution_count": 5,
   "id": "2155bf0b",
   "metadata": {
    "execution": {
     "iopub.execute_input": "2022-04-23T19:46:40.670418Z",
     "iopub.status.busy": "2022-04-23T19:46:40.669846Z",
     "iopub.status.idle": "2022-04-23T19:46:40.679592Z",
     "shell.execute_reply": "2022-04-23T19:46:40.679026Z",
     "shell.execute_reply.started": "2022-04-03T07:12:59.447953Z"
    },
    "papermill": {
     "duration": 0.029102,
     "end_time": "2022-04-23T19:46:40.679721",
     "exception": false,
     "start_time": "2022-04-23T19:46:40.650619",
     "status": "completed"
    },
    "tags": []
   },
   "outputs": [
    {
     "data": {
      "text/plain": [
       "6.0606060606060606"
      ]
     },
     "execution_count": 5,
     "metadata": {},
     "output_type": "execute_result"
    }
   ],
   "source": [
    "n=len(df[df['category']=='expert'])\n",
    "t=len(df['category'])\n",
    "(100*n)/t"
   ]
  },
  {
   "cell_type": "markdown",
   "id": "3dba8a2f",
   "metadata": {
    "papermill": {
     "duration": 0.014706,
     "end_time": "2022-04-23T19:46:40.709683",
     "exception": false,
     "start_time": "2022-04-23T19:46:40.694977",
     "status": "completed"
    },
    "tags": []
   },
   "source": [
    "## 5) Who has written most number of articles after GeeksforGeeks?"
   ]
  },
  {
   "cell_type": "code",
   "execution_count": 6,
   "id": "d06a10d0",
   "metadata": {
    "execution": {
     "iopub.execute_input": "2022-04-23T19:46:40.745079Z",
     "iopub.status.busy": "2022-04-23T19:46:40.744191Z",
     "iopub.status.idle": "2022-04-23T19:46:40.759521Z",
     "shell.execute_reply": "2022-04-23T19:46:40.760050Z",
     "shell.execute_reply.started": "2022-04-03T07:13:03.96329Z"
    },
    "papermill": {
     "duration": 0.035416,
     "end_time": "2022-04-23T19:46:40.760212",
     "exception": false,
     "start_time": "2022-04-23T19:46:40.724796",
     "status": "completed"
    },
    "scrolled": true,
    "tags": []
   },
   "outputs": [
    {
     "data": {
      "text/plain": [
       "author_id\n",
       "GeeksforGeeks    11957\n",
       "ManasChhabra2      317\n",
       "dtype: int64"
      ]
     },
     "execution_count": 6,
     "metadata": {},
     "output_type": "execute_result"
    }
   ],
   "source": [
    "df.groupby('author_id').size().sort_values(ascending=False).head(2)\n",
    "# df2=df.groupby('author_id').size().sort_values(ascending=False)\n",
    "# data=df2.values;\n",
    "# data"
   ]
  },
  {
   "cell_type": "markdown",
   "id": "2cf5f5af",
   "metadata": {
    "papermill": {
     "duration": 0.015681,
     "end_time": "2022-04-23T19:46:40.792328",
     "exception": false,
     "start_time": "2022-04-23T19:46:40.776647",
     "status": "completed"
    },
    "tags": []
   },
   "source": [
    "## 6) Who has written most number of articles in Expert Category after GeeksforGeeks?"
   ]
  },
  {
   "cell_type": "code",
   "execution_count": 7,
   "id": "58a9c185",
   "metadata": {
    "execution": {
     "iopub.execute_input": "2022-04-23T19:46:40.827035Z",
     "iopub.status.busy": "2022-04-23T19:46:40.826089Z",
     "iopub.status.idle": "2022-04-23T19:46:40.837784Z",
     "shell.execute_reply": "2022-04-23T19:46:40.838180Z",
     "shell.execute_reply.started": "2022-04-03T07:13:07.404189Z"
    },
    "papermill": {
     "duration": 0.030463,
     "end_time": "2022-04-23T19:46:40.838345",
     "exception": false,
     "start_time": "2022-04-23T19:46:40.807882",
     "status": "completed"
    },
    "scrolled": true,
    "tags": []
   },
   "outputs": [
    {
     "data": {
      "text/plain": [
       "author_id\n",
       "GeeksforGeeks      285\n",
       "mishrapriyank17     36\n",
       "dtype: int64"
      ]
     },
     "execution_count": 7,
     "metadata": {},
     "output_type": "execute_result"
    }
   ],
   "source": [
    "df[df['category']=='expert'].groupby('author_id').size().sort_values(ascending=False).head(2)"
   ]
  },
  {
   "cell_type": "code",
   "execution_count": 8,
   "id": "a23bee29",
   "metadata": {
    "execution": {
     "iopub.execute_input": "2022-04-23T19:46:40.873882Z",
     "iopub.status.busy": "2022-04-23T19:46:40.872950Z",
     "iopub.status.idle": "2022-04-23T19:46:40.889355Z",
     "shell.execute_reply": "2022-04-23T19:46:40.888887Z",
     "shell.execute_reply.started": "2022-04-01T20:24:52.978082Z"
    },
    "papermill": {
     "duration": 0.035426,
     "end_time": "2022-04-23T19:46:40.889479",
     "exception": false,
     "start_time": "2022-04-23T19:46:40.854053",
     "status": "completed"
    },
    "tags": []
   },
   "outputs": [
    {
     "data": {
      "text/html": [
       "<div>\n",
       "<style scoped>\n",
       "    .dataframe tbody tr th:only-of-type {\n",
       "        vertical-align: middle;\n",
       "    }\n",
       "\n",
       "    .dataframe tbody tr th {\n",
       "        vertical-align: top;\n",
       "    }\n",
       "\n",
       "    .dataframe thead th {\n",
       "        text-align: right;\n",
       "    }\n",
       "</style>\n",
       "<table border=\"1\" class=\"dataframe\">\n",
       "  <thead>\n",
       "    <tr style=\"text-align: right;\">\n",
       "      <th></th>\n",
       "      <th>title</th>\n",
       "      <th>author_id</th>\n",
       "      <th>last_updated</th>\n",
       "      <th>link</th>\n",
       "      <th>category</th>\n",
       "    </tr>\n",
       "  </thead>\n",
       "  <tbody>\n",
       "    <tr>\n",
       "      <th>0</th>\n",
       "      <td>5 Best Practices For Writing SQL Joins</td>\n",
       "      <td>priyankab14</td>\n",
       "      <td>21 Feb, 2022</td>\n",
       "      <td>https://www.geeksforgeeks.org/5-best-practices...</td>\n",
       "      <td>easy</td>\n",
       "    </tr>\n",
       "    <tr>\n",
       "      <th>1</th>\n",
       "      <td>Foundation CSS Dropdown Menu</td>\n",
       "      <td>ishankhandelwals</td>\n",
       "      <td>20 Feb, 2022</td>\n",
       "      <td>https://www.geeksforgeeks.org/foundation-css-d...</td>\n",
       "      <td>easy</td>\n",
       "    </tr>\n",
       "    <tr>\n",
       "      <th>2</th>\n",
       "      <td>Top 20 Excel Shortcuts That You Need To Know</td>\n",
       "      <td>priyankab14</td>\n",
       "      <td>17 Feb, 2022</td>\n",
       "      <td>https://www.geeksforgeeks.org/top-20-excel-sho...</td>\n",
       "      <td>easy</td>\n",
       "    </tr>\n",
       "    <tr>\n",
       "      <th>3</th>\n",
       "      <td>Servlet – Fetching Result</td>\n",
       "      <td>nishatiwari1719</td>\n",
       "      <td>17 Feb, 2022</td>\n",
       "      <td>https://www.geeksforgeeks.org/servlet-fetching...</td>\n",
       "      <td>easy</td>\n",
       "    </tr>\n",
       "    <tr>\n",
       "      <th>4</th>\n",
       "      <td>Suffix Sum Array</td>\n",
       "      <td>rohit768</td>\n",
       "      <td>21 Feb, 2022</td>\n",
       "      <td>https://www.geeksforgeeks.org/suffix-sum-array/</td>\n",
       "      <td>easy</td>\n",
       "    </tr>\n",
       "    <tr>\n",
       "      <th>5</th>\n",
       "      <td>Kelvin To Celsius Formula</td>\n",
       "      <td>ramneek2307</td>\n",
       "      <td>16 Feb, 2022</td>\n",
       "      <td>https://www.geeksforgeeks.org/kelvin-to-celsiu...</td>\n",
       "      <td>easy</td>\n",
       "    </tr>\n",
       "    <tr>\n",
       "      <th>6</th>\n",
       "      <td>How to Install MongoDB for VSCode?</td>\n",
       "      <td>ramneek2307</td>\n",
       "      <td>12 Feb, 2022</td>\n",
       "      <td>https://www.geeksforgeeks.org/how-to-install-m...</td>\n",
       "      <td>easy</td>\n",
       "    </tr>\n",
       "    <tr>\n",
       "      <th>7</th>\n",
       "      <td>7 Highest Paying Programming Languages For Fre...</td>\n",
       "      <td>vanshika4042</td>\n",
       "      <td>18 Feb, 2022</td>\n",
       "      <td>https://www.geeksforgeeks.org/7-highest-paying...</td>\n",
       "      <td>easy</td>\n",
       "    </tr>\n",
       "    <tr>\n",
       "      <th>8</th>\n",
       "      <td>Free Resume Builder By GeeksforGeeks – Create ...</td>\n",
       "      <td>GeeksforGeeks</td>\n",
       "      <td>08 Feb, 2022</td>\n",
       "      <td>https://www.geeksforgeeks.org/free-resume-buil...</td>\n",
       "      <td>easy</td>\n",
       "    </tr>\n",
       "    <tr>\n",
       "      <th>9</th>\n",
       "      <td>8 Best Tips to Improve Your JavaScript Skills</td>\n",
       "      <td>prateekjangid10</td>\n",
       "      <td>06 Feb, 2022</td>\n",
       "      <td>https://www.geeksforgeeks.org/8-best-tips-to-i...</td>\n",
       "      <td>easy</td>\n",
       "    </tr>\n",
       "    <tr>\n",
       "      <th>10</th>\n",
       "      <td>Binary Tree Iterator for Inorder Traversal</td>\n",
       "      <td>gursimar04</td>\n",
       "      <td>16 Feb, 2022</td>\n",
       "      <td>https://www.geeksforgeeks.org/binary-tree-iter...</td>\n",
       "      <td>easy</td>\n",
       "    </tr>\n",
       "    <tr>\n",
       "      <th>11</th>\n",
       "      <td>Capitalize 1st character of all words having a...</td>\n",
       "      <td>durgeshsahu7</td>\n",
       "      <td>16 Feb, 2022</td>\n",
       "      <td>https://www.geeksforgeeks.org/capitalize-1st-c...</td>\n",
       "      <td>easy</td>\n",
       "    </tr>\n",
       "    <tr>\n",
       "      <th>12</th>\n",
       "      <td>Longest Increasing consecutive subsequence | S...</td>\n",
       "      <td>pka5667</td>\n",
       "      <td>22 Feb, 2022</td>\n",
       "      <td>https://www.geeksforgeeks.org/longest-increasi...</td>\n",
       "      <td>easy</td>\n",
       "    </tr>\n",
       "    <tr>\n",
       "      <th>13</th>\n",
       "      <td>Minimize product of maximum numbers in two Arr...</td>\n",
       "      <td>pranjuldwivedi120568</td>\n",
       "      <td>09 Feb, 2022</td>\n",
       "      <td>https://www.geeksforgeeks.org/minimize-product...</td>\n",
       "      <td>easy</td>\n",
       "    </tr>\n",
       "    <tr>\n",
       "      <th>14</th>\n",
       "      <td>Do’s and Don’ts of Self-Taught Programming</td>\n",
       "      <td>ishasharma9</td>\n",
       "      <td>01 Feb, 2022</td>\n",
       "      <td>https://www.geeksforgeeks.org/dos-and-donts-of...</td>\n",
       "      <td>easy</td>\n",
       "    </tr>\n",
       "    <tr>\n",
       "      <th>15</th>\n",
       "      <td>Calculate sum in Diagonal Matrix Decomposition...</td>\n",
       "      <td>prophet1999</td>\n",
       "      <td>11 Feb, 2022</td>\n",
       "      <td>https://www.geeksforgeeks.org/calculate-sum-in...</td>\n",
       "      <td>easy</td>\n",
       "    </tr>\n",
       "    <tr>\n",
       "      <th>16</th>\n",
       "      <td>Count of palindromic rows in given Matrix</td>\n",
       "      <td>manishguptagkp06</td>\n",
       "      <td>07 Feb, 2022</td>\n",
       "      <td>https://www.geeksforgeeks.org/count-of-palindr...</td>\n",
       "      <td>easy</td>\n",
       "    </tr>\n",
       "    <tr>\n",
       "      <th>17</th>\n",
       "      <td>Find if sum of elements of given Array is less...</td>\n",
       "      <td>mayank007rawa</td>\n",
       "      <td>09 Feb, 2022</td>\n",
       "      <td>https://www.geeksforgeeks.org/find-if-sum-of-e...</td>\n",
       "      <td>easy</td>\n",
       "    </tr>\n",
       "    <tr>\n",
       "      <th>18</th>\n",
       "      <td>How to Install MySQL on Linux?</td>\n",
       "      <td>ayonssp</td>\n",
       "      <td>31 Jan, 2022</td>\n",
       "      <td>https://www.geeksforgeeks.org/how-to-install-m...</td>\n",
       "      <td>easy</td>\n",
       "    </tr>\n",
       "    <tr>\n",
       "      <th>19</th>\n",
       "      <td>Difference between odd level and even level le...</td>\n",
       "      <td>vineetsharma36</td>\n",
       "      <td>03 Feb, 2022</td>\n",
       "      <td>https://www.geeksforgeeks.org/difference-betwe...</td>\n",
       "      <td>easy</td>\n",
       "    </tr>\n",
       "    <tr>\n",
       "      <th>20</th>\n",
       "      <td>Must Do Coding Questions for Product Based Com...</td>\n",
       "      <td>GeeksforGeeks</td>\n",
       "      <td>Medium</td>\n",
       "      <td>https://www.geeksforgeeks.org/must-do-coding-q...</td>\n",
       "      <td>easy</td>\n",
       "    </tr>\n",
       "    <tr>\n",
       "      <th>21</th>\n",
       "      <td>What is JSP Page?</td>\n",
       "      <td>rajkumbaji3707</td>\n",
       "      <td>30 Jan, 2022</td>\n",
       "      <td>https://www.geeksforgeeks.org/what-is-jsp-page/</td>\n",
       "      <td>easy</td>\n",
       "    </tr>\n",
       "    <tr>\n",
       "      <th>22</th>\n",
       "      <td>Reduce given Matrix by size 1 using sum of all...</td>\n",
       "      <td>harshdeepmahajan88</td>\n",
       "      <td>22 Feb, 2022</td>\n",
       "      <td>https://www.geeksforgeeks.org/reduce-given-mat...</td>\n",
       "      <td>easy</td>\n",
       "    </tr>\n",
       "    <tr>\n",
       "      <th>23</th>\n",
       "      <td>FREE GATE CS 2022 Mock Test – All India Mock B...</td>\n",
       "      <td>GeeksforGeeks</td>\n",
       "      <td>16 Feb, 2022</td>\n",
       "      <td>https://www.geeksforgeeks.org/free-gate-cs-202...</td>\n",
       "      <td>easy</td>\n",
       "    </tr>\n",
       "    <tr>\n",
       "      <th>24</th>\n",
       "      <td>Find sum of first N terms of the series 5, 11,...</td>\n",
       "      <td>lucidcoder121</td>\n",
       "      <td>04 Feb, 2022</td>\n",
       "      <td>https://www.geeksforgeeks.org/find-sum-of-firs...</td>\n",
       "      <td>easy</td>\n",
       "    </tr>\n",
       "    <tr>\n",
       "      <th>25</th>\n",
       "      <td>Amazon WOW Internship Interview Experience 2021</td>\n",
       "      <td>GeeksforGeeks</td>\n",
       "      <td>24 Jan, 2022</td>\n",
       "      <td>https://www.geeksforgeeks.org/amazon-wow-inter...</td>\n",
       "      <td>easy</td>\n",
       "    </tr>\n",
       "    <tr>\n",
       "      <th>26</th>\n",
       "      <td>Find K such that sum of hamming distances betw...</td>\n",
       "      <td>siddharthsinghvats</td>\n",
       "      <td>10 Feb, 2022</td>\n",
       "      <td>https://www.geeksforgeeks.org/find-k-such-that...</td>\n",
       "      <td>easy</td>\n",
       "    </tr>\n",
       "    <tr>\n",
       "      <th>27</th>\n",
       "      <td>Count of unique subsets from a set having repe...</td>\n",
       "      <td>refertoyash</td>\n",
       "      <td>02 Feb, 2022</td>\n",
       "      <td>https://www.geeksforgeeks.org/count-of-unique-...</td>\n",
       "      <td>easy</td>\n",
       "    </tr>\n",
       "    <tr>\n",
       "      <th>28</th>\n",
       "      <td>Print the frequency of adjacent repeating char...</td>\n",
       "      <td>sourabhnaikssj</td>\n",
       "      <td>31 Jan, 2022</td>\n",
       "      <td>https://www.geeksforgeeks.org/print-the-freque...</td>\n",
       "      <td>easy</td>\n",
       "    </tr>\n",
       "    <tr>\n",
       "      <th>29</th>\n",
       "      <td>7 Major Recruitment Trends To Watch Out in 2022</td>\n",
       "      <td>yuvraj10</td>\n",
       "      <td>20 Jan, 2022</td>\n",
       "      <td>https://www.geeksforgeeks.org/7-major-recruitm...</td>\n",
       "      <td>easy</td>\n",
       "    </tr>\n",
       "  </tbody>\n",
       "</table>\n",
       "</div>"
      ],
      "text/plain": [
       "                                                title             author_id  \\\n",
       "0              5 Best Practices For Writing SQL Joins           priyankab14   \n",
       "1                        Foundation CSS Dropdown Menu      ishankhandelwals   \n",
       "2        Top 20 Excel Shortcuts That You Need To Know           priyankab14   \n",
       "3                           Servlet – Fetching Result       nishatiwari1719   \n",
       "4                                    Suffix Sum Array              rohit768   \n",
       "5                           Kelvin To Celsius Formula           ramneek2307   \n",
       "6                  How to Install MongoDB for VSCode?           ramneek2307   \n",
       "7   7 Highest Paying Programming Languages For Fre...          vanshika4042   \n",
       "8   Free Resume Builder By GeeksforGeeks – Create ...         GeeksforGeeks   \n",
       "9       8 Best Tips to Improve Your JavaScript Skills       prateekjangid10   \n",
       "10         Binary Tree Iterator for Inorder Traversal            gursimar04   \n",
       "11  Capitalize 1st character of all words having a...          durgeshsahu7   \n",
       "12  Longest Increasing consecutive subsequence | S...               pka5667   \n",
       "13  Minimize product of maximum numbers in two Arr...  pranjuldwivedi120568   \n",
       "14         Do’s and Don’ts of Self-Taught Programming           ishasharma9   \n",
       "15  Calculate sum in Diagonal Matrix Decomposition...           prophet1999   \n",
       "16          Count of palindromic rows in given Matrix      manishguptagkp06   \n",
       "17  Find if sum of elements of given Array is less...         mayank007rawa   \n",
       "18                     How to Install MySQL on Linux?               ayonssp   \n",
       "19  Difference between odd level and even level le...        vineetsharma36   \n",
       "20  Must Do Coding Questions for Product Based Com...         GeeksforGeeks   \n",
       "21                                  What is JSP Page?        rajkumbaji3707   \n",
       "22  Reduce given Matrix by size 1 using sum of all...    harshdeepmahajan88   \n",
       "23  FREE GATE CS 2022 Mock Test – All India Mock B...         GeeksforGeeks   \n",
       "24  Find sum of first N terms of the series 5, 11,...         lucidcoder121   \n",
       "25    Amazon WOW Internship Interview Experience 2021         GeeksforGeeks   \n",
       "26  Find K such that sum of hamming distances betw...    siddharthsinghvats   \n",
       "27  Count of unique subsets from a set having repe...           refertoyash   \n",
       "28  Print the frequency of adjacent repeating char...        sourabhnaikssj   \n",
       "29    7 Major Recruitment Trends To Watch Out in 2022              yuvraj10   \n",
       "\n",
       "    last_updated                                               link category  \n",
       "0   21 Feb, 2022  https://www.geeksforgeeks.org/5-best-practices...     easy  \n",
       "1   20 Feb, 2022  https://www.geeksforgeeks.org/foundation-css-d...     easy  \n",
       "2   17 Feb, 2022  https://www.geeksforgeeks.org/top-20-excel-sho...     easy  \n",
       "3   17 Feb, 2022  https://www.geeksforgeeks.org/servlet-fetching...     easy  \n",
       "4   21 Feb, 2022    https://www.geeksforgeeks.org/suffix-sum-array/     easy  \n",
       "5   16 Feb, 2022  https://www.geeksforgeeks.org/kelvin-to-celsiu...     easy  \n",
       "6   12 Feb, 2022  https://www.geeksforgeeks.org/how-to-install-m...     easy  \n",
       "7   18 Feb, 2022  https://www.geeksforgeeks.org/7-highest-paying...     easy  \n",
       "8   08 Feb, 2022  https://www.geeksforgeeks.org/free-resume-buil...     easy  \n",
       "9   06 Feb, 2022  https://www.geeksforgeeks.org/8-best-tips-to-i...     easy  \n",
       "10  16 Feb, 2022  https://www.geeksforgeeks.org/binary-tree-iter...     easy  \n",
       "11  16 Feb, 2022  https://www.geeksforgeeks.org/capitalize-1st-c...     easy  \n",
       "12  22 Feb, 2022  https://www.geeksforgeeks.org/longest-increasi...     easy  \n",
       "13  09 Feb, 2022  https://www.geeksforgeeks.org/minimize-product...     easy  \n",
       "14  01 Feb, 2022  https://www.geeksforgeeks.org/dos-and-donts-of...     easy  \n",
       "15  11 Feb, 2022  https://www.geeksforgeeks.org/calculate-sum-in...     easy  \n",
       "16  07 Feb, 2022  https://www.geeksforgeeks.org/count-of-palindr...     easy  \n",
       "17  09 Feb, 2022  https://www.geeksforgeeks.org/find-if-sum-of-e...     easy  \n",
       "18  31 Jan, 2022  https://www.geeksforgeeks.org/how-to-install-m...     easy  \n",
       "19  03 Feb, 2022  https://www.geeksforgeeks.org/difference-betwe...     easy  \n",
       "20        Medium  https://www.geeksforgeeks.org/must-do-coding-q...     easy  \n",
       "21  30 Jan, 2022    https://www.geeksforgeeks.org/what-is-jsp-page/     easy  \n",
       "22  22 Feb, 2022  https://www.geeksforgeeks.org/reduce-given-mat...     easy  \n",
       "23  16 Feb, 2022  https://www.geeksforgeeks.org/free-gate-cs-202...     easy  \n",
       "24  04 Feb, 2022  https://www.geeksforgeeks.org/find-sum-of-firs...     easy  \n",
       "25  24 Jan, 2022  https://www.geeksforgeeks.org/amazon-wow-inter...     easy  \n",
       "26  10 Feb, 2022  https://www.geeksforgeeks.org/find-k-such-that...     easy  \n",
       "27  02 Feb, 2022  https://www.geeksforgeeks.org/count-of-unique-...     easy  \n",
       "28  31 Jan, 2022  https://www.geeksforgeeks.org/print-the-freque...     easy  \n",
       "29  20 Jan, 2022  https://www.geeksforgeeks.org/7-major-recruitm...     easy  "
      ]
     },
     "execution_count": 8,
     "metadata": {},
     "output_type": "execute_result"
    }
   ],
   "source": [
    "df.head(30)"
   ]
  },
  {
   "cell_type": "markdown",
   "id": "8a53f5fc",
   "metadata": {
    "papermill": {
     "duration": 0.016399,
     "end_time": "2022-04-23T19:46:40.922711",
     "exception": false,
     "start_time": "2022-04-23T19:46:40.906312",
     "status": "completed"
    },
    "tags": []
   },
   "source": [
    "## 7) Which day of the month has most number of articles published?"
   ]
  },
  {
   "cell_type": "code",
   "execution_count": 9,
   "id": "12c32b90",
   "metadata": {
    "execution": {
     "iopub.execute_input": "2022-04-23T19:46:40.989902Z",
     "iopub.status.busy": "2022-04-23T19:46:40.969046Z",
     "iopub.status.idle": "2022-04-23T19:46:41.017060Z",
     "shell.execute_reply": "2022-04-23T19:46:41.016508Z",
     "shell.execute_reply.started": "2022-04-03T07:13:12.07231Z"
    },
    "papermill": {
     "duration": 0.077703,
     "end_time": "2022-04-23T19:46:41.017198",
     "exception": false,
     "start_time": "2022-04-23T19:46:40.939495",
     "status": "completed"
    },
    "tags": []
   },
   "outputs": [
    {
     "data": {
      "text/plain": [
       "date\n",
       "28    2433\n",
       "22    1315\n",
       "21    1293\n",
       "07    1186\n",
       "10    1184\n",
       "17    1175\n",
       "24    1175\n",
       "26    1175\n",
       "11    1164\n",
       "30    1149\n",
       "29    1135\n",
       "06    1122\n",
       "19    1108\n",
       "27    1105\n",
       "18    1071\n",
       "09    1070\n",
       "14    1046\n",
       "13    1020\n",
       "23    1020\n",
       "08    1012\n",
       "03    1003\n",
       "12     999\n",
       "16     988\n",
       "01     986\n",
       "20     980\n",
       "25     975\n",
       "05     968\n",
       "02     960\n",
       "04     951\n",
       "15     949\n",
       "31     738\n",
       "        96\n",
       "dtype: int64"
      ]
     },
     "execution_count": 9,
     "metadata": {},
     "output_type": "execute_result"
    }
   ],
   "source": [
    "data=df.values\n",
    "month=[]\n",
    "date=[]\n",
    "year=[]\n",
    "data\n",
    "for i in range(0,len(data)):\n",
    "    l=data[i][2].split(' ')\n",
    "    if(len(l)==3):\n",
    "        date.append(l[0])\n",
    "        month.append(l[1])\n",
    "        year.append(l[2])\n",
    "    else:\n",
    "        date.append(' ')\n",
    "        month.append(' ')\n",
    "        year.append(' ')\n",
    "    \n",
    "        \n",
    "df['date']=date  \n",
    "df['month']=month\n",
    "df['year']=year  \n",
    "df.groupby('date').size().sort_values(ascending=False)"
   ]
  },
  {
   "cell_type": "markdown",
   "id": "0275de2a",
   "metadata": {
    "papermill": {
     "duration": 0.016857,
     "end_time": "2022-04-23T19:46:41.051776",
     "exception": false,
     "start_time": "2022-04-23T19:46:41.034919",
     "status": "completed"
    },
    "tags": []
   },
   "source": [
    "## 8) Which day of July has most number of articles published?"
   ]
  },
  {
   "cell_type": "code",
   "execution_count": 10,
   "id": "db991a0a",
   "metadata": {
    "execution": {
     "iopub.execute_input": "2022-04-23T19:46:41.105402Z",
     "iopub.status.busy": "2022-04-23T19:46:41.098760Z",
     "iopub.status.idle": "2022-04-23T19:46:41.167834Z",
     "shell.execute_reply": "2022-04-23T19:46:41.167209Z",
     "shell.execute_reply.started": "2022-04-03T07:13:17.068953Z"
    },
    "papermill": {
     "duration": 0.099077,
     "end_time": "2022-04-23T19:46:41.167965",
     "exception": false,
     "start_time": "2022-04-23T19:46:41.068888",
     "status": "completed"
    },
    "tags": []
   },
   "outputs": [
    {
     "data": {
      "text/plain": [
       "date\n",
       "07    166\n",
       "06    146\n",
       "16    129\n",
       "30    126\n",
       "02    117\n",
       "09    113\n",
       "26    113\n",
       "23    107\n",
       "01    107\n",
       "19    104\n",
       "22    103\n",
       "15     99\n",
       "28     99\n",
       "29     98\n",
       "08     97\n",
       "10     96\n",
       "12     91\n",
       "05     91\n",
       "13     76\n",
       "20     74\n",
       "21     72\n",
       "31     69\n",
       "17     68\n",
       "04     65\n",
       "27     63\n",
       "03     63\n",
       "11     62\n",
       "18     59\n",
       "14     54\n",
       "25     51\n",
       "24     45\n",
       "dtype: int64"
      ]
     },
     "execution_count": 10,
     "metadata": {},
     "output_type": "execute_result"
    }
   ],
   "source": [
    "data=df.values\n",
    "month=[]\n",
    "date=[]\n",
    "year=[]\n",
    "for i in range(0,len(data)):\n",
    "    l=data[i][2].split(' ')\n",
    "    if(len(l)==3):\n",
    "        date.append(l[0])\n",
    "        month.append(l[1])\n",
    "        year.append(l[2])\n",
    "    else:\n",
    "        date.append(' ')\n",
    "        month.append(' ')\n",
    "        year.append(' ')\n",
    "    \n",
    "        \n",
    "df['date']=date  \n",
    "df['month']=month\n",
    "df['year']=year \n",
    "\n",
    "df[df['month']=='Jul,'].groupby('date').size().sort_values(ascending=False)\n",
    "\n",
    "# pdf.groupby('date').size().sort_values(ascending=False)"
   ]
  },
  {
   "cell_type": "markdown",
   "id": "96cca018",
   "metadata": {
    "papermill": {
     "duration": 0.016868,
     "end_time": "2022-04-23T19:46:41.202033",
     "exception": false,
     "start_time": "2022-04-23T19:46:41.185165",
     "status": "completed"
    },
    "tags": []
   },
   "source": [
    "## 9) Which month has least number of articles published?"
   ]
  },
  {
   "cell_type": "code",
   "execution_count": 11,
   "id": "d396ad84",
   "metadata": {
    "execution": {
     "iopub.execute_input": "2022-04-23T19:46:41.250730Z",
     "iopub.status.busy": "2022-04-23T19:46:41.249781Z",
     "iopub.status.idle": "2022-04-23T19:46:41.300481Z",
     "shell.execute_reply": "2022-04-23T19:46:41.299903Z",
     "shell.execute_reply.started": "2022-04-03T07:13:20.832343Z"
    },
    "papermill": {
     "duration": 0.081538,
     "end_time": "2022-04-23T19:46:41.300651",
     "exception": false,
     "start_time": "2022-04-23T19:46:41.219113",
     "status": "completed"
    },
    "scrolled": true,
    "tags": []
   },
   "outputs": [
    {
     "data": {
      "text/plain": [
       "month\n",
       "          96\n",
       "Mar,    1510\n",
       "Apr,    2318\n",
       "Dec,    2674\n",
       "Feb,    2716\n",
       "Oct,    2775\n",
       "Jul,    2823\n",
       "Sep,    2918\n",
       "Nov,    2932\n",
       "Aug,    3192\n",
       "Jan,    3206\n",
       "May,    3331\n",
       "Jun,    4060\n",
       "dtype: int64"
      ]
     },
     "execution_count": 11,
     "metadata": {},
     "output_type": "execute_result"
    }
   ],
   "source": [
    "data=df.values\n",
    "month=[]\n",
    "date=[]\n",
    "year=[]\n",
    "data\n",
    "for i in range(0,len(data)):\n",
    "    l=data[i][2].split(' ')\n",
    "    if(len(l)==3):\n",
    "        date.append(l[0])\n",
    "        month.append(l[1])\n",
    "        year.append(l[2])\n",
    "    else:\n",
    "        date.append(' ')\n",
    "        month.append(' ')\n",
    "        year.append(' ')\n",
    "    \n",
    "        \n",
    "df['date']=date  \n",
    "df['month']=month\n",
    "df['year']=year  \n",
    "df.groupby('month').size().sort_values()"
   ]
  },
  {
   "cell_type": "markdown",
   "id": "d323e1e1",
   "metadata": {
    "papermill": {
     "duration": 0.018589,
     "end_time": "2022-04-23T19:46:41.337055",
     "exception": false,
     "start_time": "2022-04-23T19:46:41.318466",
     "status": "completed"
    },
    "tags": []
   },
   "source": [
    "## 10) Growth Rate of articles written 2021 as compare to 2020?"
   ]
  },
  {
   "cell_type": "code",
   "execution_count": 12,
   "id": "483cbbce",
   "metadata": {
    "execution": {
     "iopub.execute_input": "2022-04-23T19:46:41.376716Z",
     "iopub.status.busy": "2022-04-23T19:46:41.376059Z",
     "iopub.status.idle": "2022-04-23T19:46:41.392997Z",
     "shell.execute_reply": "2022-04-23T19:46:41.393481Z",
     "shell.execute_reply.started": "2022-04-03T07:13:23.792557Z"
    },
    "papermill": {
     "duration": 0.038475,
     "end_time": "2022-04-23T19:46:41.393656",
     "exception": false,
     "start_time": "2022-04-23T19:46:41.355181",
     "status": "completed"
    },
    "tags": []
   },
   "outputs": [
    {
     "data": {
      "text/plain": [
       "302"
      ]
     },
     "execution_count": 12,
     "metadata": {},
     "output_type": "execute_result"
    }
   ],
   "source": [
    "# df.groupby('year').size().sort_values()\n",
    "x=len(df[df['year']=='2020'])\n",
    "y=len(df[df['year']=='2021'])\n",
    "gr=int((y-x)*100/x)\n",
    "gr"
   ]
  }
 ],
 "metadata": {
  "kernelspec": {
   "display_name": "Python 3",
   "language": "python",
   "name": "python3"
  },
  "language_info": {
   "codemirror_mode": {
    "name": "ipython",
    "version": 3
   },
   "file_extension": ".py",
   "mimetype": "text/x-python",
   "name": "python",
   "nbconvert_exporter": "python",
   "pygments_lexer": "ipython3",
   "version": "3.7.12"
  },
  "papermill": {
   "default_parameters": {},
   "duration": 10.01519,
   "end_time": "2022-04-23T19:46:42.021597",
   "environment_variables": {},
   "exception": null,
   "input_path": "__notebook__.ipynb",
   "output_path": "__notebook__.ipynb",
   "parameters": {},
   "start_time": "2022-04-23T19:46:32.006407",
   "version": "2.3.3"
  }
 },
 "nbformat": 4,
 "nbformat_minor": 5
}
