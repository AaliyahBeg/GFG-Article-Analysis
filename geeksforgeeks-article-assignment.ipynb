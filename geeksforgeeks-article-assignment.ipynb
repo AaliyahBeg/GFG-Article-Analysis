{
 "cells": [
  {
   "cell_type": "code",
   "execution_count": 1,
   "id": "099ec9ae",
   "metadata": {
    "_cell_guid": "b1076dfc-b9ad-4769-8c92-a6c4dae69d19",
    "_uuid": "8f2839f25d086af736a60e9eeb907d3b93b6e0e5",
    "execution": {
     "iopub.execute_input": "2022-04-23T19:44:29.074999Z",
     "iopub.status.busy": "2022-04-23T19:44:29.073742Z",
     "iopub.status.idle": "2022-04-23T19:44:29.317799Z",
     "shell.execute_reply": "2022-04-23T19:44:29.316943Z",
     "shell.execute_reply.started": "2022-04-03T07:12:09.206548Z"
    },
    "papermill": {
     "duration": 0.271824,
     "end_time": "2022-04-23T19:44:29.317999",
     "exception": false,
     "start_time": "2022-04-23T19:44:29.046175",
     "status": "completed"
    },
    "tags": []
   },
   "outputs": [],
   "source": [
    "import os\n",
    "import numpy as np\n",
    "import pandas as pd\n",
    "\n",
    "\n",
    "df = pd.read_csv('/kaggle/input/geeksforgeeks-articles/articles.csv')\n",
    "df.dropna(inplace = True)"
   ]
  },
  {
   "cell_type": "markdown",
   "id": "9f33d0cb",
   "metadata": {
    "papermill": {
     "duration": 0.021245,
     "end_time": "2022-04-23T19:44:29.361732",
     "exception": false,
     "start_time": "2022-04-23T19:44:29.340487",
     "status": "completed"
    },
    "tags": []
   },
   "source": [
    "## 1) How many authors do we have in the dataset?"
   ]
  },
  {
   "cell_type": "code",
   "execution_count": 2,
   "id": "d6aabc89",
   "metadata": {
    "execution": {
     "iopub.execute_input": "2022-04-23T19:44:29.421611Z",
     "iopub.status.busy": "2022-04-23T19:44:29.420543Z",
     "iopub.status.idle": "2022-04-23T19:44:29.429867Z",
     "shell.execute_reply": "2022-04-23T19:44:29.430426Z",
     "shell.execute_reply.started": "2022-04-03T07:12:46.943817Z"
    },
    "papermill": {
     "duration": 0.047095,
     "end_time": "2022-04-23T19:44:29.430636",
     "exception": false,
     "start_time": "2022-04-23T19:44:29.383541",
     "status": "completed"
    },
    "tags": []
   },
   "outputs": [
    {
     "data": {
      "text/plain": [
       "5589"
      ]
     },
     "execution_count": 2,
     "metadata": {},
     "output_type": "execute_result"
    }
   ],
   "source": [
    "#M1 # convert the data frame into 2-d array\n",
    "# data=df.values\n",
    "# # unique values\n",
    "# author=set()\n",
    "# for i in range(len(data)):\n",
    "#     author.add(data[i][1])\n",
    "# len(author)\n",
    "#M2 df['author_id'].nunique()\n",
    "#M3 df['author_id'].describe()\n",
    "len(df['author_id'].unique())"
   ]
  },
  {
   "cell_type": "code",
   "execution_count": null,
   "id": "56766b71",
   "metadata": {
    "execution": {
     "iopub.execute_input": "2022-04-01T16:29:51.320547Z",
     "iopub.status.busy": "2022-04-01T16:29:51.319453Z",
     "iopub.status.idle": "2022-04-01T16:29:51.415183Z",
     "shell.execute_reply": "2022-04-01T16:29:51.414008Z",
     "shell.execute_reply.started": "2022-04-01T16:29:51.320361Z"
    },
    "papermill": {
     "duration": 0.021498,
     "end_time": "2022-04-23T19:44:29.474374",
     "exception": false,
     "start_time": "2022-04-23T19:44:29.452876",
     "status": "completed"
    },
    "tags": []
   },
   "outputs": [],
   "source": []
  },
  {
   "cell_type": "markdown",
   "id": "e9da3aa9",
   "metadata": {
    "papermill": {
     "duration": 0.021386,
     "end_time": "2022-04-23T19:44:29.517766",
     "exception": false,
     "start_time": "2022-04-23T19:44:29.496380",
     "status": "completed"
    },
    "tags": []
   },
   "source": [
    "## 2) How many easy articles are publised on GeeksforGeeks?"
   ]
  },
  {
   "cell_type": "code",
   "execution_count": 3,
   "id": "1b7df242",
   "metadata": {
    "execution": {
     "iopub.execute_input": "2022-04-23T19:44:29.574512Z",
     "iopub.status.busy": "2022-04-23T19:44:29.573449Z",
     "iopub.status.idle": "2022-04-23T19:44:29.580764Z",
     "shell.execute_reply": "2022-04-23T19:44:29.580171Z",
     "shell.execute_reply.started": "2022-04-03T07:12:53.553442Z"
    },
    "papermill": {
     "duration": 0.041221,
     "end_time": "2022-04-23T19:44:29.580924",
     "exception": false,
     "start_time": "2022-04-23T19:44:29.539703",
     "status": "completed"
    },
    "tags": []
   },
   "outputs": [
    {
     "data": {
      "text/plain": [
       "9654"
      ]
     },
     "execution_count": 3,
     "metadata": {},
     "output_type": "execute_result"
    }
   ],
   "source": [
    "len(df[df['category']=='easy'])"
   ]
  },
  {
   "cell_type": "markdown",
   "id": "c3742e15",
   "metadata": {
    "papermill": {
     "duration": 0.021965,
     "end_time": "2022-04-23T19:44:29.625215",
     "exception": false,
     "start_time": "2022-04-23T19:44:29.603250",
     "status": "completed"
    },
    "tags": []
   },
   "source": [
    "## 3) Which category is having most number of articles?"
   ]
  },
  {
   "cell_type": "code",
   "execution_count": 4,
   "id": "95d8c088",
   "metadata": {
    "execution": {
     "iopub.execute_input": "2022-04-23T19:44:29.673890Z",
     "iopub.status.busy": "2022-04-23T19:44:29.673245Z",
     "iopub.status.idle": "2022-04-23T19:44:29.690864Z",
     "shell.execute_reply": "2022-04-23T19:44:29.691438Z",
     "shell.execute_reply.started": "2022-04-03T07:12:56.556807Z"
    },
    "papermill": {
     "duration": 0.043743,
     "end_time": "2022-04-23T19:44:29.691648",
     "exception": false,
     "start_time": "2022-04-23T19:44:29.647905",
     "status": "completed"
    },
    "tags": []
   },
   "outputs": [
    {
     "data": {
      "text/plain": [
       "'medium'"
      ]
     },
     "execution_count": 4,
     "metadata": {},
     "output_type": "execute_result"
    }
   ],
   "source": [
    "# v=df.max(df.groupby('category').size())\n",
    "# len(df[df['category']==v])\n",
    "#M1 df.groupby('category').size()\n",
    "df['category'].describe()[2]\n"
   ]
  },
  {
   "cell_type": "markdown",
   "id": "617c1383",
   "metadata": {
    "papermill": {
     "duration": 0.02237,
     "end_time": "2022-04-23T19:44:29.736978",
     "exception": false,
     "start_time": "2022-04-23T19:44:29.714608",
     "status": "completed"
    },
    "tags": []
   },
   "source": [
    "## 4) What percent of articles are in expert category out of total number of articles?"
   ]
  },
  {
   "cell_type": "code",
   "execution_count": 5,
   "id": "8c668a6c",
   "metadata": {
    "execution": {
     "iopub.execute_input": "2022-04-23T19:44:29.786658Z",
     "iopub.status.busy": "2022-04-23T19:44:29.785984Z",
     "iopub.status.idle": "2022-04-23T19:44:29.798510Z",
     "shell.execute_reply": "2022-04-23T19:44:29.799052Z",
     "shell.execute_reply.started": "2022-04-03T07:12:59.447953Z"
    },
    "papermill": {
     "duration": 0.039358,
     "end_time": "2022-04-23T19:44:29.799275",
     "exception": false,
     "start_time": "2022-04-23T19:44:29.759917",
     "status": "completed"
    },
    "tags": []
   },
   "outputs": [
    {
     "data": {
      "text/plain": [
       "6.0606060606060606"
      ]
     },
     "execution_count": 5,
     "metadata": {},
     "output_type": "execute_result"
    }
   ],
   "source": [
    "n=len(df[df['category']=='expert'])\n",
    "t=len(df['category'])\n",
    "(100*n)/t"
   ]
  },
  {
   "cell_type": "markdown",
   "id": "45d77a0f",
   "metadata": {
    "papermill": {
     "duration": 0.022837,
     "end_time": "2022-04-23T19:44:29.847995",
     "exception": false,
     "start_time": "2022-04-23T19:44:29.825158",
     "status": "completed"
    },
    "tags": []
   },
   "source": [
    "## 5) Who has written most number of articles after GeeksforGeeks?"
   ]
  },
  {
   "cell_type": "code",
   "execution_count": 6,
   "id": "41f974bf",
   "metadata": {
    "execution": {
     "iopub.execute_input": "2022-04-23T19:44:29.900827Z",
     "iopub.status.busy": "2022-04-23T19:44:29.900113Z",
     "iopub.status.idle": "2022-04-23T19:44:29.916304Z",
     "shell.execute_reply": "2022-04-23T19:44:29.916820Z",
     "shell.execute_reply.started": "2022-04-03T07:13:03.96329Z"
    },
    "papermill": {
     "duration": 0.045693,
     "end_time": "2022-04-23T19:44:29.917022",
     "exception": false,
     "start_time": "2022-04-23T19:44:29.871329",
     "status": "completed"
    },
    "scrolled": true,
    "tags": []
   },
   "outputs": [
    {
     "data": {
      "text/plain": [
       "author_id\n",
       "GeeksforGeeks    11957\n",
       "ManasChhabra2      317\n",
       "dtype: int64"
      ]
     },
     "execution_count": 6,
     "metadata": {},
     "output_type": "execute_result"
    }
   ],
   "source": [
    "df.groupby('author_id').size().sort_values(ascending=False).head(2)\n",
    "# df2=df.groupby('author_id').size().sort_values(ascending=False)\n",
    "# data=df2.values;\n",
    "# data"
   ]
  },
  {
   "cell_type": "markdown",
   "id": "3982c60d",
   "metadata": {
    "papermill": {
     "duration": 0.023004,
     "end_time": "2022-04-23T19:44:29.963970",
     "exception": false,
     "start_time": "2022-04-23T19:44:29.940966",
     "status": "completed"
    },
    "tags": []
   },
   "source": [
    "## 6) Who has written most number of articles in Expert Category after GeeksforGeeks?"
   ]
  },
  {
   "cell_type": "code",
   "execution_count": 7,
   "id": "a8190be2",
   "metadata": {
    "execution": {
     "iopub.execute_input": "2022-04-23T19:44:30.014320Z",
     "iopub.status.busy": "2022-04-23T19:44:30.013682Z",
     "iopub.status.idle": "2022-04-23T19:44:30.029221Z",
     "shell.execute_reply": "2022-04-23T19:44:30.029817Z",
     "shell.execute_reply.started": "2022-04-03T07:13:07.404189Z"
    },
    "papermill": {
     "duration": 0.042448,
     "end_time": "2022-04-23T19:44:30.030041",
     "exception": false,
     "start_time": "2022-04-23T19:44:29.987593",
     "status": "completed"
    },
    "scrolled": true,
    "tags": []
   },
   "outputs": [
    {
     "data": {
      "text/plain": [
       "author_id\n",
       "GeeksforGeeks      285\n",
       "mishrapriyank17     36\n",
       "dtype: int64"
      ]
     },
     "execution_count": 7,
     "metadata": {},
     "output_type": "execute_result"
    }
   ],
   "source": [
    "df[df['category']=='expert'].groupby('author_id').size().sort_values(ascending=False).head(2)"
   ]
  },
  {
   "cell_type": "code",
   "execution_count": 8,
   "id": "d28d252a",
   "metadata": {
    "execution": {
     "iopub.execute_input": "2022-04-23T19:44:30.082721Z",
     "iopub.status.busy": "2022-04-23T19:44:30.081989Z",
     "iopub.status.idle": "2022-04-23T19:44:30.101059Z",
     "shell.execute_reply": "2022-04-23T19:44:30.101587Z",
     "shell.execute_reply.started": "2022-04-01T20:24:52.978082Z"
    },
    "papermill": {
     "duration": 0.047416,
     "end_time": "2022-04-23T19:44:30.101796",
     "exception": false,
     "start_time": "2022-04-23T19:44:30.054380",
     "status": "completed"
    },
    "tags": []
   },
   "outputs": [
    {
     "data": {
      "text/html": [
       "<div>\n",
       "<style scoped>\n",
       "    .dataframe tbody tr th:only-of-type {\n",
       "        vertical-align: middle;\n",
       "    }\n",
       "\n",
       "    .dataframe tbody tr th {\n",
       "        vertical-align: top;\n",
       "    }\n",
       "\n",
       "    .dataframe thead th {\n",
       "        text-align: right;\n",
       "    }\n",
       "</style>\n",
       "<table border=\"1\" class=\"dataframe\">\n",
       "  <thead>\n",
       "    <tr style=\"text-align: right;\">\n",
       "      <th></th>\n",
       "      <th>title</th>\n",
       "      <th>author_id</th>\n",
       "      <th>last_updated</th>\n",
       "      <th>link</th>\n",
       "      <th>category</th>\n",
       "    </tr>\n",
       "  </thead>\n",
       "  <tbody>\n",
       "    <tr>\n",
       "      <th>0</th>\n",
       "      <td>5 Best Practices For Writing SQL Joins</td>\n",
       "      <td>priyankab14</td>\n",
       "      <td>21 Feb, 2022</td>\n",
       "      <td>https://www.geeksforgeeks.org/5-best-practices...</td>\n",
       "      <td>easy</td>\n",
       "    </tr>\n",
       "    <tr>\n",
       "      <th>1</th>\n",
       "      <td>Foundation CSS Dropdown Menu</td>\n",
       "      <td>ishankhandelwals</td>\n",
       "      <td>20 Feb, 2022</td>\n",
       "      <td>https://www.geeksforgeeks.org/foundation-css-d...</td>\n",
       "      <td>easy</td>\n",
       "    </tr>\n",
       "    <tr>\n",
       "      <th>2</th>\n",
       "      <td>Top 20 Excel Shortcuts That You Need To Know</td>\n",
       "      <td>priyankab14</td>\n",
       "      <td>17 Feb, 2022</td>\n",
       "      <td>https://www.geeksforgeeks.org/top-20-excel-sho...</td>\n",
       "      <td>easy</td>\n",
       "    </tr>\n",
       "    <tr>\n",
       "      <th>3</th>\n",
       "      <td>Servlet – Fetching Result</td>\n",
       "      <td>nishatiwari1719</td>\n",
       "      <td>17 Feb, 2022</td>\n",
       "      <td>https://www.geeksforgeeks.org/servlet-fetching...</td>\n",
       "      <td>easy</td>\n",
       "    </tr>\n",
       "    <tr>\n",
       "      <th>4</th>\n",
       "      <td>Suffix Sum Array</td>\n",
       "      <td>rohit768</td>\n",
       "      <td>21 Feb, 2022</td>\n",
       "      <td>https://www.geeksforgeeks.org/suffix-sum-array/</td>\n",
       "      <td>easy</td>\n",
       "    </tr>\n",
       "    <tr>\n",
       "      <th>5</th>\n",
       "      <td>Kelvin To Celsius Formula</td>\n",
       "      <td>ramneek2307</td>\n",
       "      <td>16 Feb, 2022</td>\n",
       "      <td>https://www.geeksforgeeks.org/kelvin-to-celsiu...</td>\n",
       "      <td>easy</td>\n",
       "    </tr>\n",
       "    <tr>\n",
       "      <th>6</th>\n",
       "      <td>How to Install MongoDB for VSCode?</td>\n",
       "      <td>ramneek2307</td>\n",
       "      <td>12 Feb, 2022</td>\n",
       "      <td>https://www.geeksforgeeks.org/how-to-install-m...</td>\n",
       "      <td>easy</td>\n",
       "    </tr>\n",
       "    <tr>\n",
       "      <th>7</th>\n",
       "      <td>7 Highest Paying Programming Languages For Fre...</td>\n",
       "      <td>vanshika4042</td>\n",
       "      <td>18 Feb, 2022</td>\n",
       "      <td>https://www.geeksforgeeks.org/7-highest-paying...</td>\n",
       "      <td>easy</td>\n",
       "    </tr>\n",
       "    <tr>\n",
       "      <th>8</th>\n",
       "      <td>Free Resume Builder By GeeksforGeeks – Create ...</td>\n",
       "      <td>GeeksforGeeks</td>\n",
       "      <td>08 Feb, 2022</td>\n",
       "      <td>https://www.geeksforgeeks.org/free-resume-buil...</td>\n",
       "      <td>easy</td>\n",
       "    </tr>\n",
       "    <tr>\n",
       "      <th>9</th>\n",
       "      <td>8 Best Tips to Improve Your JavaScript Skills</td>\n",
       "      <td>prateekjangid10</td>\n",
       "      <td>06 Feb, 2022</td>\n",
       "      <td>https://www.geeksforgeeks.org/8-best-tips-to-i...</td>\n",
       "      <td>easy</td>\n",
       "    </tr>\n",
       "    <tr>\n",
       "      <th>10</th>\n",
       "      <td>Binary Tree Iterator for Inorder Traversal</td>\n",
       "      <td>gursimar04</td>\n",
       "      <td>16 Feb, 2022</td>\n",
       "      <td>https://www.geeksforgeeks.org/binary-tree-iter...</td>\n",
       "      <td>easy</td>\n",
       "    </tr>\n",
       "    <tr>\n",
       "      <th>11</th>\n",
       "      <td>Capitalize 1st character of all words having a...</td>\n",
       "      <td>durgeshsahu7</td>\n",
       "      <td>16 Feb, 2022</td>\n",
       "      <td>https://www.geeksforgeeks.org/capitalize-1st-c...</td>\n",
       "      <td>easy</td>\n",
       "    </tr>\n",
       "    <tr>\n",
       "      <th>12</th>\n",
       "      <td>Longest Increasing consecutive subsequence | S...</td>\n",
       "      <td>pka5667</td>\n",
       "      <td>22 Feb, 2022</td>\n",
       "      <td>https://www.geeksforgeeks.org/longest-increasi...</td>\n",
       "      <td>easy</td>\n",
       "    </tr>\n",
       "    <tr>\n",
       "      <th>13</th>\n",
       "      <td>Minimize product of maximum numbers in two Arr...</td>\n",
       "      <td>pranjuldwivedi120568</td>\n",
       "      <td>09 Feb, 2022</td>\n",
       "      <td>https://www.geeksforgeeks.org/minimize-product...</td>\n",
       "      <td>easy</td>\n",
       "    </tr>\n",
       "    <tr>\n",
       "      <th>14</th>\n",
       "      <td>Do’s and Don’ts of Self-Taught Programming</td>\n",
       "      <td>ishasharma9</td>\n",
       "      <td>01 Feb, 2022</td>\n",
       "      <td>https://www.geeksforgeeks.org/dos-and-donts-of...</td>\n",
       "      <td>easy</td>\n",
       "    </tr>\n",
       "    <tr>\n",
       "      <th>15</th>\n",
       "      <td>Calculate sum in Diagonal Matrix Decomposition...</td>\n",
       "      <td>prophet1999</td>\n",
       "      <td>11 Feb, 2022</td>\n",
       "      <td>https://www.geeksforgeeks.org/calculate-sum-in...</td>\n",
       "      <td>easy</td>\n",
       "    </tr>\n",
       "    <tr>\n",
       "      <th>16</th>\n",
       "      <td>Count of palindromic rows in given Matrix</td>\n",
       "      <td>manishguptagkp06</td>\n",
       "      <td>07 Feb, 2022</td>\n",
       "      <td>https://www.geeksforgeeks.org/count-of-palindr...</td>\n",
       "      <td>easy</td>\n",
       "    </tr>\n",
       "    <tr>\n",
       "      <th>17</th>\n",
       "      <td>Find if sum of elements of given Array is less...</td>\n",
       "      <td>mayank007rawa</td>\n",
       "      <td>09 Feb, 2022</td>\n",
       "      <td>https://www.geeksforgeeks.org/find-if-sum-of-e...</td>\n",
       "      <td>easy</td>\n",
       "    </tr>\n",
       "    <tr>\n",
       "      <th>18</th>\n",
       "      <td>How to Install MySQL on Linux?</td>\n",
       "      <td>ayonssp</td>\n",
       "      <td>31 Jan, 2022</td>\n",
       "      <td>https://www.geeksforgeeks.org/how-to-install-m...</td>\n",
       "      <td>easy</td>\n",
       "    </tr>\n",
       "    <tr>\n",
       "      <th>19</th>\n",
       "      <td>Difference between odd level and even level le...</td>\n",
       "      <td>vineetsharma36</td>\n",
       "      <td>03 Feb, 2022</td>\n",
       "      <td>https://www.geeksforgeeks.org/difference-betwe...</td>\n",
       "      <td>easy</td>\n",
       "    </tr>\n",
       "    <tr>\n",
       "      <th>20</th>\n",
       "      <td>Must Do Coding Questions for Product Based Com...</td>\n",
       "      <td>GeeksforGeeks</td>\n",
       "      <td>Medium</td>\n",
       "      <td>https://www.geeksforgeeks.org/must-do-coding-q...</td>\n",
       "      <td>easy</td>\n",
       "    </tr>\n",
       "    <tr>\n",
       "      <th>21</th>\n",
       "      <td>What is JSP Page?</td>\n",
       "      <td>rajkumbaji3707</td>\n",
       "      <td>30 Jan, 2022</td>\n",
       "      <td>https://www.geeksforgeeks.org/what-is-jsp-page/</td>\n",
       "      <td>easy</td>\n",
       "    </tr>\n",
       "    <tr>\n",
       "      <th>22</th>\n",
       "      <td>Reduce given Matrix by size 1 using sum of all...</td>\n",
       "      <td>harshdeepmahajan88</td>\n",
       "      <td>22 Feb, 2022</td>\n",
       "      <td>https://www.geeksforgeeks.org/reduce-given-mat...</td>\n",
       "      <td>easy</td>\n",
       "    </tr>\n",
       "    <tr>\n",
       "      <th>23</th>\n",
       "      <td>FREE GATE CS 2022 Mock Test – All India Mock B...</td>\n",
       "      <td>GeeksforGeeks</td>\n",
       "      <td>16 Feb, 2022</td>\n",
       "      <td>https://www.geeksforgeeks.org/free-gate-cs-202...</td>\n",
       "      <td>easy</td>\n",
       "    </tr>\n",
       "    <tr>\n",
       "      <th>24</th>\n",
       "      <td>Find sum of first N terms of the series 5, 11,...</td>\n",
       "      <td>lucidcoder121</td>\n",
       "      <td>04 Feb, 2022</td>\n",
       "      <td>https://www.geeksforgeeks.org/find-sum-of-firs...</td>\n",
       "      <td>easy</td>\n",
       "    </tr>\n",
       "    <tr>\n",
       "      <th>25</th>\n",
       "      <td>Amazon WOW Internship Interview Experience 2021</td>\n",
       "      <td>GeeksforGeeks</td>\n",
       "      <td>24 Jan, 2022</td>\n",
       "      <td>https://www.geeksforgeeks.org/amazon-wow-inter...</td>\n",
       "      <td>easy</td>\n",
       "    </tr>\n",
       "    <tr>\n",
       "      <th>26</th>\n",
       "      <td>Find K such that sum of hamming distances betw...</td>\n",
       "      <td>siddharthsinghvats</td>\n",
       "      <td>10 Feb, 2022</td>\n",
       "      <td>https://www.geeksforgeeks.org/find-k-such-that...</td>\n",
       "      <td>easy</td>\n",
       "    </tr>\n",
       "    <tr>\n",
       "      <th>27</th>\n",
       "      <td>Count of unique subsets from a set having repe...</td>\n",
       "      <td>refertoyash</td>\n",
       "      <td>02 Feb, 2022</td>\n",
       "      <td>https://www.geeksforgeeks.org/count-of-unique-...</td>\n",
       "      <td>easy</td>\n",
       "    </tr>\n",
       "    <tr>\n",
       "      <th>28</th>\n",
       "      <td>Print the frequency of adjacent repeating char...</td>\n",
       "      <td>sourabhnaikssj</td>\n",
       "      <td>31 Jan, 2022</td>\n",
       "      <td>https://www.geeksforgeeks.org/print-the-freque...</td>\n",
       "      <td>easy</td>\n",
       "    </tr>\n",
       "    <tr>\n",
       "      <th>29</th>\n",
       "      <td>7 Major Recruitment Trends To Watch Out in 2022</td>\n",
       "      <td>yuvraj10</td>\n",
       "      <td>20 Jan, 2022</td>\n",
       "      <td>https://www.geeksforgeeks.org/7-major-recruitm...</td>\n",
       "      <td>easy</td>\n",
       "    </tr>\n",
       "  </tbody>\n",
       "</table>\n",
       "</div>"
      ],
      "text/plain": [
       "                                                title             author_id  \\\n",
       "0              5 Best Practices For Writing SQL Joins           priyankab14   \n",
       "1                        Foundation CSS Dropdown Menu      ishankhandelwals   \n",
       "2        Top 20 Excel Shortcuts That You Need To Know           priyankab14   \n",
       "3                           Servlet – Fetching Result       nishatiwari1719   \n",
       "4                                    Suffix Sum Array              rohit768   \n",
       "5                           Kelvin To Celsius Formula           ramneek2307   \n",
       "6                  How to Install MongoDB for VSCode?           ramneek2307   \n",
       "7   7 Highest Paying Programming Languages For Fre...          vanshika4042   \n",
       "8   Free Resume Builder By GeeksforGeeks – Create ...         GeeksforGeeks   \n",
       "9       8 Best Tips to Improve Your JavaScript Skills       prateekjangid10   \n",
       "10         Binary Tree Iterator for Inorder Traversal            gursimar04   \n",
       "11  Capitalize 1st character of all words having a...          durgeshsahu7   \n",
       "12  Longest Increasing consecutive subsequence | S...               pka5667   \n",
       "13  Minimize product of maximum numbers in two Arr...  pranjuldwivedi120568   \n",
       "14         Do’s and Don’ts of Self-Taught Programming           ishasharma9   \n",
       "15  Calculate sum in Diagonal Matrix Decomposition...           prophet1999   \n",
       "16          Count of palindromic rows in given Matrix      manishguptagkp06   \n",
       "17  Find if sum of elements of given Array is less...         mayank007rawa   \n",
       "18                     How to Install MySQL on Linux?               ayonssp   \n",
       "19  Difference between odd level and even level le...        vineetsharma36   \n",
       "20  Must Do Coding Questions for Product Based Com...         GeeksforGeeks   \n",
       "21                                  What is JSP Page?        rajkumbaji3707   \n",
       "22  Reduce given Matrix by size 1 using sum of all...    harshdeepmahajan88   \n",
       "23  FREE GATE CS 2022 Mock Test – All India Mock B...         GeeksforGeeks   \n",
       "24  Find sum of first N terms of the series 5, 11,...         lucidcoder121   \n",
       "25    Amazon WOW Internship Interview Experience 2021         GeeksforGeeks   \n",
       "26  Find K such that sum of hamming distances betw...    siddharthsinghvats   \n",
       "27  Count of unique subsets from a set having repe...           refertoyash   \n",
       "28  Print the frequency of adjacent repeating char...        sourabhnaikssj   \n",
       "29    7 Major Recruitment Trends To Watch Out in 2022              yuvraj10   \n",
       "\n",
       "    last_updated                                               link category  \n",
       "0   21 Feb, 2022  https://www.geeksforgeeks.org/5-best-practices...     easy  \n",
       "1   20 Feb, 2022  https://www.geeksforgeeks.org/foundation-css-d...     easy  \n",
       "2   17 Feb, 2022  https://www.geeksforgeeks.org/top-20-excel-sho...     easy  \n",
       "3   17 Feb, 2022  https://www.geeksforgeeks.org/servlet-fetching...     easy  \n",
       "4   21 Feb, 2022    https://www.geeksforgeeks.org/suffix-sum-array/     easy  \n",
       "5   16 Feb, 2022  https://www.geeksforgeeks.org/kelvin-to-celsiu...     easy  \n",
       "6   12 Feb, 2022  https://www.geeksforgeeks.org/how-to-install-m...     easy  \n",
       "7   18 Feb, 2022  https://www.geeksforgeeks.org/7-highest-paying...     easy  \n",
       "8   08 Feb, 2022  https://www.geeksforgeeks.org/free-resume-buil...     easy  \n",
       "9   06 Feb, 2022  https://www.geeksforgeeks.org/8-best-tips-to-i...     easy  \n",
       "10  16 Feb, 2022  https://www.geeksforgeeks.org/binary-tree-iter...     easy  \n",
       "11  16 Feb, 2022  https://www.geeksforgeeks.org/capitalize-1st-c...     easy  \n",
       "12  22 Feb, 2022  https://www.geeksforgeeks.org/longest-increasi...     easy  \n",
       "13  09 Feb, 2022  https://www.geeksforgeeks.org/minimize-product...     easy  \n",
       "14  01 Feb, 2022  https://www.geeksforgeeks.org/dos-and-donts-of...     easy  \n",
       "15  11 Feb, 2022  https://www.geeksforgeeks.org/calculate-sum-in...     easy  \n",
       "16  07 Feb, 2022  https://www.geeksforgeeks.org/count-of-palindr...     easy  \n",
       "17  09 Feb, 2022  https://www.geeksforgeeks.org/find-if-sum-of-e...     easy  \n",
       "18  31 Jan, 2022  https://www.geeksforgeeks.org/how-to-install-m...     easy  \n",
       "19  03 Feb, 2022  https://www.geeksforgeeks.org/difference-betwe...     easy  \n",
       "20        Medium  https://www.geeksforgeeks.org/must-do-coding-q...     easy  \n",
       "21  30 Jan, 2022    https://www.geeksforgeeks.org/what-is-jsp-page/     easy  \n",
       "22  22 Feb, 2022  https://www.geeksforgeeks.org/reduce-given-mat...     easy  \n",
       "23  16 Feb, 2022  https://www.geeksforgeeks.org/free-gate-cs-202...     easy  \n",
       "24  04 Feb, 2022  https://www.geeksforgeeks.org/find-sum-of-firs...     easy  \n",
       "25  24 Jan, 2022  https://www.geeksforgeeks.org/amazon-wow-inter...     easy  \n",
       "26  10 Feb, 2022  https://www.geeksforgeeks.org/find-k-such-that...     easy  \n",
       "27  02 Feb, 2022  https://www.geeksforgeeks.org/count-of-unique-...     easy  \n",
       "28  31 Jan, 2022  https://www.geeksforgeeks.org/print-the-freque...     easy  \n",
       "29  20 Jan, 2022  https://www.geeksforgeeks.org/7-major-recruitm...     easy  "
      ]
     },
     "execution_count": 8,
     "metadata": {},
     "output_type": "execute_result"
    }
   ],
   "source": [
    "df.head(30)"
   ]
  },
  {
   "cell_type": "markdown",
   "id": "61a01050",
   "metadata": {
    "papermill": {
     "duration": 0.024796,
     "end_time": "2022-04-23T19:44:30.151717",
     "exception": false,
     "start_time": "2022-04-23T19:44:30.126921",
     "status": "completed"
    },
    "tags": []
   },
   "source": [
    "## 7) Which day of the month has most number of articles published?"
   ]
  },
  {
   "cell_type": "code",
   "execution_count": null,
   "id": "29c26b2b",
   "metadata": {
    "papermill": {
     "duration": 0.02551,
     "end_time": "2022-04-23T19:44:30.202359",
     "exception": false,
     "start_time": "2022-04-23T19:44:30.176849",
     "status": "completed"
    },
    "tags": []
   },
   "outputs": [],
   "source": [
    "\n"
   ]
  },
  {
   "cell_type": "code",
   "execution_count": 9,
   "id": "6218fe10",
   "metadata": {
    "execution": {
     "iopub.execute_input": "2022-04-23T19:44:30.262670Z",
     "iopub.status.busy": "2022-04-23T19:44:30.261697Z",
     "iopub.status.idle": "2022-04-23T19:44:30.335751Z",
     "shell.execute_reply": "2022-04-23T19:44:30.335191Z",
     "shell.execute_reply.started": "2022-04-03T07:13:12.07231Z"
    },
    "papermill": {
     "duration": 0.108162,
     "end_time": "2022-04-23T19:44:30.335892",
     "exception": false,
     "start_time": "2022-04-23T19:44:30.227730",
     "status": "completed"
    },
    "tags": []
   },
   "outputs": [
    {
     "data": {
      "text/plain": [
       "date\n",
       "28    2433\n",
       "22    1315\n",
       "21    1293\n",
       "07    1186\n",
       "10    1184\n",
       "17    1175\n",
       "24    1175\n",
       "26    1175\n",
       "11    1164\n",
       "30    1149\n",
       "29    1135\n",
       "06    1122\n",
       "19    1108\n",
       "27    1105\n",
       "18    1071\n",
       "09    1070\n",
       "14    1046\n",
       "13    1020\n",
       "23    1020\n",
       "08    1012\n",
       "03    1003\n",
       "12     999\n",
       "16     988\n",
       "01     986\n",
       "20     980\n",
       "25     975\n",
       "05     968\n",
       "02     960\n",
       "04     951\n",
       "15     949\n",
       "31     738\n",
       "        96\n",
       "dtype: int64"
      ]
     },
     "execution_count": 9,
     "metadata": {},
     "output_type": "execute_result"
    }
   ],
   "source": [
    "data=df.values\n",
    "month=[]\n",
    "date=[]\n",
    "year=[]\n",
    "data\n",
    "for i in range(0,len(data)):\n",
    "    l=data[i][2].split(' ')\n",
    "    if(len(l)==3):\n",
    "        date.append(l[0])\n",
    "        month.append(l[1])\n",
    "        year.append(l[2])\n",
    "    else:\n",
    "        date.append(' ')\n",
    "        month.append(' ')\n",
    "        year.append(' ')\n",
    "    \n",
    "        \n",
    "df['date']=date  \n",
    "df['month']=month\n",
    "df['year']=year  \n",
    "df.groupby('date').size().sort_values(ascending=False)"
   ]
  },
  {
   "cell_type": "code",
   "execution_count": null,
   "id": "962b8fb7",
   "metadata": {
    "papermill": {
     "duration": 0.024871,
     "end_time": "2022-04-23T19:44:30.386709",
     "exception": false,
     "start_time": "2022-04-23T19:44:30.361838",
     "status": "completed"
    },
    "tags": []
   },
   "outputs": [],
   "source": []
  },
  {
   "cell_type": "markdown",
   "id": "da0b6703",
   "metadata": {
    "papermill": {
     "duration": 0.024867,
     "end_time": "2022-04-23T19:44:30.436804",
     "exception": false,
     "start_time": "2022-04-23T19:44:30.411937",
     "status": "completed"
    },
    "tags": []
   },
   "source": [
    "## 8) Which day of July has most number of articles published?"
   ]
  },
  {
   "cell_type": "code",
   "execution_count": 10,
   "id": "c8a44808",
   "metadata": {
    "execution": {
     "iopub.execute_input": "2022-04-23T19:44:30.496861Z",
     "iopub.status.busy": "2022-04-23T19:44:30.495767Z",
     "iopub.status.idle": "2022-04-23T19:44:30.590573Z",
     "shell.execute_reply": "2022-04-23T19:44:30.591087Z",
     "shell.execute_reply.started": "2022-04-03T07:13:17.068953Z"
    },
    "papermill": {
     "duration": 0.129299,
     "end_time": "2022-04-23T19:44:30.591277",
     "exception": false,
     "start_time": "2022-04-23T19:44:30.461978",
     "status": "completed"
    },
    "tags": []
   },
   "outputs": [
    {
     "data": {
      "text/plain": [
       "date\n",
       "07    166\n",
       "06    146\n",
       "16    129\n",
       "30    126\n",
       "02    117\n",
       "09    113\n",
       "26    113\n",
       "23    107\n",
       "01    107\n",
       "19    104\n",
       "22    103\n",
       "15     99\n",
       "28     99\n",
       "29     98\n",
       "08     97\n",
       "10     96\n",
       "12     91\n",
       "05     91\n",
       "13     76\n",
       "20     74\n",
       "21     72\n",
       "31     69\n",
       "17     68\n",
       "04     65\n",
       "27     63\n",
       "03     63\n",
       "11     62\n",
       "18     59\n",
       "14     54\n",
       "25     51\n",
       "24     45\n",
       "dtype: int64"
      ]
     },
     "execution_count": 10,
     "metadata": {},
     "output_type": "execute_result"
    }
   ],
   "source": [
    "data=df.values\n",
    "month=[]\n",
    "date=[]\n",
    "year=[]\n",
    "for i in range(0,len(data)):\n",
    "    l=data[i][2].split(' ')\n",
    "    if(len(l)==3):\n",
    "        date.append(l[0])\n",
    "        month.append(l[1])\n",
    "        year.append(l[2])\n",
    "    else:\n",
    "        date.append(' ')\n",
    "        month.append(' ')\n",
    "        year.append(' ')\n",
    "    \n",
    "        \n",
    "df['date']=date  \n",
    "df['month']=month\n",
    "df['year']=year \n",
    "\n",
    "df[df['month']=='Jul,'].groupby('date').size().sort_values(ascending=False)\n",
    "\n",
    "# pdf.groupby('date').size().sort_values(ascending=False)"
   ]
  },
  {
   "cell_type": "markdown",
   "id": "c2597b54",
   "metadata": {
    "papermill": {
     "duration": 0.025455,
     "end_time": "2022-04-23T19:44:30.642288",
     "exception": false,
     "start_time": "2022-04-23T19:44:30.616833",
     "status": "completed"
    },
    "tags": []
   },
   "source": [
    "## 9) Which month has least number of articles published?"
   ]
  },
  {
   "cell_type": "code",
   "execution_count": 11,
   "id": "619151cb",
   "metadata": {
    "execution": {
     "iopub.execute_input": "2022-04-23T19:44:30.698812Z",
     "iopub.status.busy": "2022-04-23T19:44:30.697836Z",
     "iopub.status.idle": "2022-04-23T19:44:30.783286Z",
     "shell.execute_reply": "2022-04-23T19:44:30.783769Z",
     "shell.execute_reply.started": "2022-04-03T07:13:20.832343Z"
    },
    "papermill": {
     "duration": 0.115148,
     "end_time": "2022-04-23T19:44:30.783990",
     "exception": false,
     "start_time": "2022-04-23T19:44:30.668842",
     "status": "completed"
    },
    "scrolled": true,
    "tags": []
   },
   "outputs": [
    {
     "data": {
      "text/plain": [
       "month\n",
       "          96\n",
       "Mar,    1510\n",
       "Apr,    2318\n",
       "Dec,    2674\n",
       "Feb,    2716\n",
       "Oct,    2775\n",
       "Jul,    2823\n",
       "Sep,    2918\n",
       "Nov,    2932\n",
       "Aug,    3192\n",
       "Jan,    3206\n",
       "May,    3331\n",
       "Jun,    4060\n",
       "dtype: int64"
      ]
     },
     "execution_count": 11,
     "metadata": {},
     "output_type": "execute_result"
    }
   ],
   "source": [
    "data=df.values\n",
    "month=[]\n",
    "date=[]\n",
    "year=[]\n",
    "data\n",
    "for i in range(0,len(data)):\n",
    "    l=data[i][2].split(' ')\n",
    "    if(len(l)==3):\n",
    "        date.append(l[0])\n",
    "        month.append(l[1])\n",
    "        year.append(l[2])\n",
    "    else:\n",
    "        date.append(' ')\n",
    "        month.append(' ')\n",
    "        year.append(' ')\n",
    "    \n",
    "        \n",
    "df['date']=date  \n",
    "df['month']=month\n",
    "df['year']=year  \n",
    "df.groupby('month').size().sort_values()"
   ]
  },
  {
   "cell_type": "markdown",
   "id": "c756a62f",
   "metadata": {
    "papermill": {
     "duration": 0.026513,
     "end_time": "2022-04-23T19:44:30.836754",
     "exception": false,
     "start_time": "2022-04-23T19:44:30.810241",
     "status": "completed"
    },
    "tags": []
   },
   "source": [
    "## 10) Growth Rate of articles written 2021 as compare to 2020?"
   ]
  },
  {
   "cell_type": "code",
   "execution_count": 12,
   "id": "278bfb4a",
   "metadata": {
    "execution": {
     "iopub.execute_input": "2022-04-23T19:44:30.896501Z",
     "iopub.status.busy": "2022-04-23T19:44:30.895469Z",
     "iopub.status.idle": "2022-04-23T19:44:30.921422Z",
     "shell.execute_reply": "2022-04-23T19:44:30.922036Z",
     "shell.execute_reply.started": "2022-04-03T07:13:23.792557Z"
    },
    "papermill": {
     "duration": 0.057424,
     "end_time": "2022-04-23T19:44:30.922245",
     "exception": false,
     "start_time": "2022-04-23T19:44:30.864821",
     "status": "completed"
    },
    "tags": []
   },
   "outputs": [
    {
     "data": {
      "text/plain": [
       "302"
      ]
     },
     "execution_count": 12,
     "metadata": {},
     "output_type": "execute_result"
    }
   ],
   "source": [
    "# df.groupby('year').size().sort_values()\n",
    "x=len(df[df['year']=='2020'])\n",
    "y=len(df[df['year']=='2021'])\n",
    "gr=int((y-x)*100/x)\n",
    "gr"
   ]
  }
 ],
 "metadata": {
  "kernelspec": {
   "display_name": "Python 3",
   "language": "python",
   "name": "python3"
  },
  "language_info": {
   "codemirror_mode": {
    "name": "ipython",
    "version": 3
   },
   "file_extension": ".py",
   "mimetype": "text/x-python",
   "name": "python",
   "nbconvert_exporter": "python",
   "pygments_lexer": "ipython3",
   "version": "3.7.12"
  },
  "papermill": {
   "default_parameters": {},
   "duration": 12.51857,
   "end_time": "2022-04-23T19:44:31.559471",
   "environment_variables": {},
   "exception": null,
   "input_path": "__notebook__.ipynb",
   "output_path": "__notebook__.ipynb",
   "parameters": {},
   "start_time": "2022-04-23T19:44:19.040901",
   "version": "2.3.3"
  }
 },
 "nbformat": 4,
 "nbformat_minor": 5
}
